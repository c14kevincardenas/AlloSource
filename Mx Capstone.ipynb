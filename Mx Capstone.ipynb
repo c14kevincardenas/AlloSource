{
 "cells": [
  {
   "cell_type": "markdown",
   "metadata": {},
   "source": [
    "# Capstone Project (Mx Data)\n",
    "## 1. Setup and Reading Files"
   ]
  },
  {
   "cell_type": "code",
   "execution_count": 15,
   "metadata": {},
   "outputs": [],
   "source": [
    "import pandas as pd\n",
    "import datetime as dt\n",
    "import numpy as np\n",
    "import calendar"
   ]
  },
  {
   "cell_type": "code",
   "execution_count": 43,
   "metadata": {
    "scrolled": false
   },
   "outputs": [
    {
     "data": {
      "text/html": [
       "<div>\n",
       "<style scoped>\n",
       "    .dataframe tbody tr th:only-of-type {\n",
       "        vertical-align: middle;\n",
       "    }\n",
       "\n",
       "    .dataframe tbody tr th {\n",
       "        vertical-align: top;\n",
       "    }\n",
       "\n",
       "    .dataframe thead th {\n",
       "        text-align: right;\n",
       "    }\n",
       "</style>\n",
       "<table border=\"1\" class=\"dataframe\">\n",
       "  <thead>\n",
       "    <tr style=\"text-align: right;\">\n",
       "      <th></th>\n",
       "      <th>Asset ID</th>\n",
       "      <th>Asset Description</th>\n",
       "      <th>Work ID</th>\n",
       "      <th>Status</th>\n",
       "      <th>Event ID</th>\n",
       "      <th>Event Name</th>\n",
       "      <th>Actual Duration (HRS)</th>\n",
       "      <th>date</th>\n",
       "      <th>mx type</th>\n",
       "      <th>mx time</th>\n",
       "      <th>Priority Number</th>\n",
       "      <th>Event Priority</th>\n",
       "    </tr>\n",
       "  </thead>\n",
       "  <tbody>\n",
       "    <tr>\n",
       "      <th>0</th>\n",
       "      <td>AHU1</td>\n",
       "      <td>AHU</td>\n",
       "      <td>MNT-213824</td>\n",
       "      <td>Closed</td>\n",
       "      <td>ME-007243</td>\n",
       "      <td>Monthly Maintenance</td>\n",
       "      <td>0.5</td>\n",
       "      <td>12/28/2020</td>\n",
       "      <td>ME</td>\n",
       "      <td>Monthly</td>\n",
       "      <td>1</td>\n",
       "      <td>3.0</td>\n",
       "    </tr>\n",
       "    <tr>\n",
       "      <th>1</th>\n",
       "      <td>AHU1</td>\n",
       "      <td>AHU</td>\n",
       "      <td>MNT-213615</td>\n",
       "      <td>Closed</td>\n",
       "      <td>ME-007916</td>\n",
       "      <td>Quarterly Maintenance</td>\n",
       "      <td>0.5</td>\n",
       "      <td>12/18/2020</td>\n",
       "      <td>ME</td>\n",
       "      <td>Quarterly</td>\n",
       "      <td>1</td>\n",
       "      <td>3.0</td>\n",
       "    </tr>\n",
       "    <tr>\n",
       "      <th>2</th>\n",
       "      <td>AHU1</td>\n",
       "      <td>AHU</td>\n",
       "      <td>MNT-210761</td>\n",
       "      <td>Closed</td>\n",
       "      <td>ME-007917</td>\n",
       "      <td>Semi-Annual Maintenance</td>\n",
       "      <td>1.0</td>\n",
       "      <td>9/23/2020</td>\n",
       "      <td>ME</td>\n",
       "      <td>Semi-Annual</td>\n",
       "      <td>1</td>\n",
       "      <td>2.0</td>\n",
       "    </tr>\n",
       "    <tr>\n",
       "      <th>3</th>\n",
       "      <td>AHU1</td>\n",
       "      <td>AHU</td>\n",
       "      <td>MNT-201361</td>\n",
       "      <td>Closed</td>\n",
       "      <td>ME-008544</td>\n",
       "      <td>Annual Maintenance</td>\n",
       "      <td>1.0</td>\n",
       "      <td>11/20/2019</td>\n",
       "      <td>ME</td>\n",
       "      <td>Annual</td>\n",
       "      <td>1</td>\n",
       "      <td>2.0</td>\n",
       "    </tr>\n",
       "    <tr>\n",
       "      <th>4</th>\n",
       "      <td>AHU1E</td>\n",
       "      <td>AHU</td>\n",
       "      <td>MNT-200719</td>\n",
       "      <td>Closed</td>\n",
       "      <td>ME-007244</td>\n",
       "      <td>Monthly Maintenance</td>\n",
       "      <td>1.0</td>\n",
       "      <td>10/30/2019</td>\n",
       "      <td>ME</td>\n",
       "      <td>Monthly</td>\n",
       "      <td>1</td>\n",
       "      <td>3.0</td>\n",
       "    </tr>\n",
       "  </tbody>\n",
       "</table>\n",
       "</div>"
      ],
      "text/plain": [
       "  Asset ID Asset Description     Work ID  Status   Event ID  \\\n",
       "0     AHU1               AHU  MNT-213824  Closed  ME-007243   \n",
       "1     AHU1               AHU  MNT-213615  Closed  ME-007916   \n",
       "2     AHU1               AHU  MNT-210761  Closed  ME-007917   \n",
       "3     AHU1               AHU  MNT-201361  Closed  ME-008544   \n",
       "4    AHU1E               AHU  MNT-200719  Closed  ME-007244   \n",
       "\n",
       "                Event Name  Actual Duration (HRS)        date mx type  \\\n",
       "0      Monthly Maintenance                    0.5  12/28/2020      ME   \n",
       "1    Quarterly Maintenance                    0.5  12/18/2020      ME   \n",
       "2  Semi-Annual Maintenance                    1.0   9/23/2020      ME   \n",
       "3       Annual Maintenance                    1.0  11/20/2019      ME   \n",
       "4      Monthly Maintenance                    1.0  10/30/2019      ME   \n",
       "\n",
       "       mx time  Priority Number  Event Priority   \n",
       "0      Monthly                1              3.0  \n",
       "1    Quarterly                1              3.0  \n",
       "2  Semi-Annual                1              2.0  \n",
       "3       Annual                1              2.0  \n",
       "4      Monthly                1              3.0  "
      ]
     },
     "execution_count": 43,
     "metadata": {},
     "output_type": "execute_result"
    }
   ],
   "source": [
    "df = pd.read_csv('mx_raw.csv')\n",
    "pd.set_option('display.max_rows', df.shape[0]+1)\n",
    "df.head()"
   ]
  },
  {
   "cell_type": "markdown",
   "metadata": {},
   "source": [
    "## 2. Find Upcoming Events for Subsequent Month"
   ]
  },
  {
   "cell_type": "code",
   "execution_count": 44,
   "metadata": {},
   "outputs": [],
   "source": [
    "# convert date column to datetime type\n",
    "df.date = pd.to_datetime(df.date)"
   ]
  },
  {
   "cell_type": "code",
   "execution_count": 45,
   "metadata": {},
   "outputs": [
    {
     "data": {
      "text/plain": [
       "array(['Monthly', 'Quarterly', 'Semi-Annual', 'Annual', '2yr', 'Weekly',\n",
       "       'Daily', '2 Week', 'Bi-Weekly'], dtype=object)"
      ]
     },
     "execution_count": 45,
     "metadata": {},
     "output_type": "execute_result"
    }
   ],
   "source": [
    "# find unique mx times\n",
    "df['mx time'].unique()"
   ]
  },
  {
   "cell_type": "code",
   "execution_count": 46,
   "metadata": {
    "scrolled": true
   },
   "outputs": [],
   "source": [
    "# create the new date column by add the date and mx time columns\n",
    "# convert mx time to hours\n",
    "# create a list of our conditions\n",
    "conditions = [\n",
    "    (df['mx time'] == '2yr'),\n",
    "    (df['mx time'] == 'Annual'),\n",
    "    (df['mx time'] == 'Semi-Annual'),\n",
    "    (df['mx time'] == 'Quarterly'),\n",
    "    (df['mx time'] == 'Monthly'),\n",
    "    (df['mx time'] == '2 Week'),\n",
    "    (df['mx time'] == 'Weekly'),\n",
    "    (df['mx time'] == 'Bi-Weekly'),\n",
    "    (df['mx time'] == 'Daily')\n",
    "    ]\n",
    "\n",
    "# create a list of the values we want to assign for each condition\n",
    "values = [17520,\n",
    "          8760,\n",
    "          4380,\n",
    "          2190,\n",
    "          730,\n",
    "          336,\n",
    "          168,\n",
    "          84,\n",
    "          24\n",
    "         ]\n",
    "# create new date column\n",
    "df['mx_due_date'] = df.date + pd.to_timedelta(np.select(conditions, values), unit='h')"
   ]
  },
  {
   "cell_type": "code",
   "execution_count": 47,
   "metadata": {},
   "outputs": [],
   "source": [
    "# find today \n",
    "today = dt.date.today()\n",
    "\n",
    "# slice all mx due next month or past due\n",
    "next_month_mx = df.loc[(df.mx_due_date.dt.month == today.month + 1) | (df.mx_due_date < pd.to_datetime(today))]\n",
    "\n",
    "# find sum of avg duration\n",
    "tot_mx_hrs = sum(next_month_mx['Actual Duration (HRS)'])"
   ]
  },
  {
   "cell_type": "markdown",
   "metadata": {},
   "source": [
    "## 3. Calculate total MX hours available"
   ]
  },
  {
   "cell_type": "code",
   "execution_count": 48,
   "metadata": {},
   "outputs": [],
   "source": [
    "# pd.to_datetime(today).weekday()\n",
    "next_month = today.month + 1\n",
    "year = today.year\n",
    "\n",
    "weekdays = 0\n",
    "weekends = 0\n",
    "cal = calendar.Calendar()\n",
    "\n",
    "# iterate through weeks in month\n",
    "for week in cal.monthdayscalendar(year, next_month):\n",
    "    for i, day in enumerate(week):\n",
    "        # check if in month and weekend\n",
    "        if day != 0 and i >= 5:\n",
    "            weekends += 1\n",
    "        # check if in month and weekday\n",
    "        elif day!= 0 and i < 5:  \n",
    "            weekdays += 1\n",
    "\n",
    "tot_man_hrs = weekdays * 32 + weekends * 18"
   ]
  },
  {
   "cell_type": "markdown",
   "metadata": {},
   "source": [
    "## 4. Can the MX Crew Finish All Events?\n",
    "#### 3.1 Yes: Write Events to a CSV\n",
    "#### 3.2 No: Pick Events by Priority and Write Priority Events to a CSV"
   ]
  },
  {
   "cell_type": "code",
   "execution_count": 50,
   "metadata": {
    "scrolled": false
   },
   "outputs": [
    {
     "name": "stdout",
     "output_type": "stream",
     "text": [
      "Need to prioritize\n"
     ]
    }
   ],
   "source": [
    "# check if MX team can complete all work\n",
    "if tot_mx_hrs <= tot_man_hrs:\n",
    "    # display next month mx\n",
    "    display(next_month_mx.loc[:,['Asset ID', 'mx_due_date', 'Priority Number']].sort_values('Priority Number'))\n",
    "else:  # cannot complete all required work\n",
    "    print('Need to prioritize')"
   ]
  },
  {
   "cell_type": "code",
   "execution_count": null,
   "metadata": {},
   "outputs": [],
   "source": []
  }
 ],
 "metadata": {
  "kernelspec": {
   "display_name": "Python 3",
   "language": "python",
   "name": "python3"
  },
  "language_info": {
   "codemirror_mode": {
    "name": "ipython",
    "version": 3
   },
   "file_extension": ".py",
   "mimetype": "text/x-python",
   "name": "python",
   "nbconvert_exporter": "python",
   "pygments_lexer": "ipython3",
   "version": "3.8.5"
  }
 },
 "nbformat": 4,
 "nbformat_minor": 4
}
